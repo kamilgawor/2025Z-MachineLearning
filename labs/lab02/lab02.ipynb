{
 "cells": [
  {
   "cell_type": "markdown",
   "id": "0a717775",
   "metadata": {},
   "source": [
    "## Wstęp do Uczenia Maszynowego \n",
    "#### Laboratorium 02"
   ]
  },
  {
   "cell_type": "code",
   "execution_count": null,
   "id": "a32d9a7a",
   "metadata": {},
   "outputs": [],
   "source": [
    "# Import potrzebnych pakietów.\n",
    "import numpy as np\n",
    "import pandas as pd\n",
    "from sklearn import tree\n",
    "from sklearn.model_selection import train_test_split"
   ]
  },
  {
   "cell_type": "markdown",
   "id": "932668d0",
   "metadata": {},
   "source": [
    "### 0. Drzewa decyzyjne - regresja\n",
    "\n",
    "Na chwilę wrócimy do zajęć lab 01.\n",
    "\n",
    "Pracowaliśmy ostatnio nad zadaniem regresji i przewidywaniem wynagrodzenia dla zawodników Baseballu.\n",
    "\n",
    "Stworzyliśmy pierwszy model i ocenialiśmy jego jakość mierząc błąd średniokwadratowy."
   ]
  },
  {
   "cell_type": "code",
   "execution_count": null,
   "id": "70e8ccdc",
   "metadata": {},
   "outputs": [],
   "source": [
    "## Kod pobierający danych\n",
    "Hitters = pd.read_csv(\"https://raw.githubusercontent.com/kozaka93/2025Z-MachineLearning/refs/heads/main/labs/lab01/Hitters.csv\", index_col =[0])\n",
    "## Ograniczamy zbiór do trzech zmiennych\n",
    "Hitters_small = Hitters[[\"Years\", \"Hits\", \"Salary\"]]\n",
    "## Usuwamy braki danych\n",
    "Hitters_small = Hitters_small.dropna()\n",
    "\n",
    "## Dzielimy zbior danych na y i X oraz na train i test\n",
    "y = Hitters_small.Salary\n",
    "X = Hitters_small.drop([\"Salary\"], axis=1)\n",
    "X_train, X_test, y_train, y_test = train_test_split(X, y, test_size=0.5, random_state=123)\n",
    "\n",
    "## Budujemy drzewo z 3 liśćmi\n",
    "Tree3 = tree.DecisionTreeRegressor(max_leaf_nodes=3)\n",
    "Tree3 = Tree3.fit(X_train, y_train)"
   ]
  },
  {
   "cell_type": "code",
   "execution_count": null,
   "id": "260fc79c",
   "metadata": {},
   "outputs": [],
   "source": [
    "## Rysunek drzewa\n",
    "tree.plot_tree(Tree3, \n",
    "               feature_names=Tree3.feature_names_in_.tolist(),\n",
    "               filled=True)"
   ]
  },
  {
   "cell_type": "markdown",
   "id": "335298cf",
   "metadata": {},
   "source": [
    "### Regiony \n",
    "\n",
    "<img src=\"Five-Region-Examples.png\" width=\"400\"/>\n",
    "\n",
    "###### Źródło:  James, G., Witten, D., Hastie, T., Tibshirani, R., Taylor, J. (2023). An Introduction to Statistical Learning with Applications in Python, Springer Science+Business Media, New York. https://www.statlearning.com/"
   ]
  },
  {
   "cell_type": "markdown",
   "id": "26fbe8f6",
   "metadata": {},
   "source": [
    "-----\n",
    "##### *Zadanie 1*\n",
    "------\n",
    "Na podstawie informacji o utworzonym drzewie zdefiniuj regiony $R_1$, $R_2$ i $R_3$."
   ]
  },
  {
   "cell_type": "markdown",
   "id": "4d568b7b",
   "metadata": {},
   "source": [
    "-----\n",
    "##### *Zadanie 2*\n",
    "------\n",
    "Na bazie przedstawionych poniżej regionów narysuj odpowiadające im drzewo decyzyjne.\n",
    "\n",
    "<img src=\"Regions_Task.png\" alt=\"drawing\" width=\"400\"/>"
   ]
  },
  {
   "cell_type": "markdown",
   "id": "959912ef",
   "metadata": {},
   "source": [
    "#### Jak konstruować regiony w przypadku drzewa dla zadania regresji?\n",
    "**Cel**: Znaleźć $R_1, R_2, \\dots, R_J$, które minimalizują $RSS$.\n",
    "\n",
    "$$RSS = \\sum_{j = 1}^{J} \\sum_{i \\in R_j}^{}(y_i - \\hat{y}_{R_j})^2$$"
   ]
  },
  {
   "cell_type": "markdown",
   "id": "361da85f",
   "metadata": {},
   "source": [
    "Niestety nie jesteśmy w stanie rozpatrzeć wszystkich możliwości - zbyt złożone obliczeniowo.\n",
    "\n",
    "Używamy podejścia *top-down, greedy*:\n",
    "- *top-down* - zaczynamy od wszystkich obserwacji w jednym regione i następnie w kolejnych krokach rozdzielamy na mniejsze regiony\n",
    "- *greedy* - na każdym etapie procesu budowania drzewa dokonywany jest najlepszy podział, nie patrzymy w przyszłość\n",
    "\n",
    "Proces powatrzamy do momentu spełnienia kryterium stopu, np. w liściu nie może być mniej niż 5 obserwacji.\n",
    "\n"
   ]
  },
  {
   "cell_type": "markdown",
   "id": "f9d08b6a",
   "metadata": {},
   "source": [
    "-----\n",
    "##### *Zadanie 3*\n",
    "------\n",
    "\n",
    "Przeprowadź eksperyment pokazujący wartość miary MSE na zbiorze treningowym i testowym w zależności od wartości parametru `max_leaf_nodes` - zakres 2:30.\n",
    "\n",
    "`max_leaf_nodes` - Grow a tree with max_leaf_nodes in best-first fashion. Best nodes are defined as relative reduction in impurity. If None then unlimited number of leaf nodes (default=None).\n",
    "\n",
    "Narysuj wykres przedstawiający wyniki eksperymantu. Jaka jest optymalna wartość parametru `max_leaf_nodes`?"
   ]
  },
  {
   "cell_type": "code",
   "execution_count": null,
   "id": "8b2f0456",
   "metadata": {},
   "outputs": [],
   "source": [
    "from sklearn.metrics import mean_squared_error\n",
    "mse_train = []\n",
    "mse_test = []\n",
    "\n",
    "..."
   ]
  },
  {
   "cell_type": "markdown",
   "id": "c551ebb3",
   "metadata": {},
   "source": [
    "### 1. Drzewa decyzyjne - klasyfikacja"
   ]
  },
  {
   "cell_type": "code",
   "execution_count": null,
   "id": "35984da2",
   "metadata": {},
   "outputs": [],
   "source": [
    "pima = pd.read_csv(\"pima.csv\")\n",
    "# pima = pd.read_csv(\"link do raw GitHub\")"
   ]
  },
  {
   "cell_type": "markdown",
   "id": "20fb0527",
   "metadata": {},
   "source": [
    "Więcej o danych: https://www.kaggle.com/datasets/uciml/pima-indians-diabetes-database"
   ]
  },
  {
   "cell_type": "code",
   "execution_count": null,
   "id": "a2e009b5",
   "metadata": {},
   "outputs": [],
   "source": []
  },
  {
   "cell_type": "code",
   "execution_count": null,
   "id": "61f52f59",
   "metadata": {},
   "outputs": [],
   "source": []
  },
  {
   "cell_type": "markdown",
   "id": "f0116945",
   "metadata": {},
   "source": [
    "### Kryterium podziału\n",
    "a) wskaźnik błędu klasyfikacji (*classification error rate*) = udział obserwacji ze zbioru treningowego w danym regionie, które nie należą do przeważającej klasy.\n",
    "    \n",
    "$$E = 1 - max_{k}(\\hat{p}_{mk}) $$\n",
    " \n",
    "$\\hat{p}_{mk}$ - proporcja obserwacji zbioru treningowego w m-tym regionie pochodząca z k-tej klasy\n",
    "   \n",
    "b) indeks Giniego   \n",
    "\n",
    " $$G = \\sum_{k=1}^{K}\\hat{p}_{mk}(1-\\hat{p}_{mk})$$\n",
    "\n",
    "Indeks Giniego przyjmuje małe wartości jeżeli $\\hat{p}_{mk}$ jest bliski 0 lub 1. Z tego powodu indeks Giniego jest określany jako miara czystości węzła (*node purity*) - mała wartość wskazuje, że węzeł zawiera głównie obserwacje z jednej klasy.\n",
    "\n",
    "c) entropia\n",
    " \n",
    " $$D = - \\sum_{k=1}^{K}\\hat{p}_{mk}log\\hat{p}_{mk}$$\n",
    "\n",
    " $0 \\leq \\hat{p}_{mk} \\leq 1 \\ \\rightarrow 0 \\leq -\\hat{p}_{mk}log\\hat{p}_{mk}$\n",
    "\n",
    "Podobnie jak indeks Giniego przyjmuje małe wartości (bliskie zero) gdy $\\hat{p}_{mk}$ jest bliskie 0 lub 1."
   ]
  },
  {
   "cell_type": "markdown",
   "id": "247d71c4",
   "metadata": {},
   "source": [
    "-----\n",
    "##### *Zadanie 4*\n",
    "------\n",
    "\n",
    "Przygotuj zbiór danych pima do dalszej pracy. Podziel na `X` i `y`, a następnie na zbiór treningowy i testowy w proporcji 7:3."
   ]
  },
  {
   "cell_type": "code",
   "execution_count": null,
   "id": "ab926c16",
   "metadata": {},
   "outputs": [],
   "source": []
  },
  {
   "cell_type": "code",
   "execution_count": null,
   "id": "2726a038",
   "metadata": {},
   "outputs": [],
   "source": []
  },
  {
   "cell_type": "markdown",
   "id": "2d261bd8",
   "metadata": {},
   "source": [
    "-----\n",
    "##### *Zadanie 5*\n",
    "------\n",
    "Zbuduj model drzewa dla danych z Zadania 1."
   ]
  },
  {
   "cell_type": "code",
   "execution_count": null,
   "id": "de4635f1",
   "metadata": {},
   "outputs": [],
   "source": [
    "from sklearn.tree import DecisionTreeClassifier\n"
   ]
  },
  {
   "cell_type": "markdown",
   "id": "012c6684",
   "metadata": {},
   "source": [
    "#### Macierz pomyłek (ang. confusion matrix)\n",
    "\n",
    "#### Jak dobry jest nasz model (zadanie klasyfikacji)?\n",
    "\n",
    "Drzewa Decyzyjne mogą być używane również do klasyfikacji. W przypadku klasyfikacji używamy innych metryk oceny.\n",
    "\n",
    "**Macierz pomyłek (ang. confusion matrix)**\n",
    "\n",
    "Macierz pomyłek jest kluczowym narzędziem do oceny modeli klasyfikacyjnych. \n",
    "\n",
    "\n",
    "  * **True Positive (TP):** Model przewidział \"tak\" i była to prawda.\n",
    "  * **True Negative (TN):** Model przewidział \"nie\" i była to prawda.\n",
    "  * **False Positive (FP):** Model przewidział \"tak\", ale była to pomyłka (fałszywy alarm).\n",
    "  * **False Negative (FN):** Model przewidział \"nie\", ale była to pomyłka (przeoczenie).\n",
    "  \n",
    "<img src=\"confusion_matrix.png\" width=\"400\"/>\n"
   ]
  },
  {
   "cell_type": "markdown",
   "id": "dcb6feff",
   "metadata": {},
   "source": [
    "-----\n",
    "##### *Zadanie 6*\n",
    "------\n",
    "Wyznacz macierz pomyłek dla predykcji na danych treningowych."
   ]
  },
  {
   "cell_type": "code",
   "execution_count": null,
   "id": "8e4150a7",
   "metadata": {},
   "outputs": [],
   "source": [
    "from sklearn.metrics import confusion_matrix\n",
    "\n"
   ]
  },
  {
   "cell_type": "markdown",
   "id": "25ec5c29",
   "metadata": {},
   "source": [
    "\n",
    "Metryki bazujące na macierzy pomyłek:\n",
    "\n",
    "  - **Dokładność (Accuracy):** Jak duży odsetek wszystkich prognoz był poprawny.\n",
    "    $$\\text{Accuracy} = \\frac{TP + TN}{TP + TN + FP + FN}$$\n",
    "\n",
    "  - **Czułość (Recall) / Pełność:** Jak duży odsetek wszystkich **rzeczywistych pozytywów** został poprawnie zidentyfikowany.\n",
    "    $$\\text{Recall} = \\frac{TP}{TP + FN}$$\n",
    "\n",
    "  - **Precyzja (Precision):** Jak duży odsetek wszystkich **prognoz pozytywnych** był faktycznie poprawny.\n",
    "    $$\\text{Precision} = \\frac{TP}{TP + FP}$$\n",
    "\n",
    "  - **F1-Score:** Średnia harmoniczna Precyzji i Czułości. Jest używany, gdy chcemy równowagi między tymi dwoma metrykami.\n",
    "    $$\\text{F1-Score} = 2 \\cdot \\frac{\\text{Precision} \\cdot \\text{Recall}}{\\text{Precision} + \\text{Recall}}$$\n",
    "\n",
    "-----"
   ]
  },
  {
   "cell_type": "markdown",
   "id": "416c54e1",
   "metadata": {},
   "source": [
    "-----\n",
    "##### *Zadanie 7*\n",
    "------\n",
    "Dla utworzonego modelu wylicz powyższe metryki."
   ]
  },
  {
   "cell_type": "markdown",
   "id": "8d23ba85",
   "metadata": {},
   "source": []
  }
 ],
 "metadata": {
  "kernelspec": {
   "display_name": "base",
   "language": "python",
   "name": "python3"
  },
  "language_info": {
   "codemirror_mode": {
    "name": "ipython",
    "version": 3
   },
   "file_extension": ".py",
   "mimetype": "text/x-python",
   "name": "python",
   "nbconvert_exporter": "python",
   "pygments_lexer": "ipython3",
   "version": "3.12.7"
  }
 },
 "nbformat": 4,
 "nbformat_minor": 5
}
